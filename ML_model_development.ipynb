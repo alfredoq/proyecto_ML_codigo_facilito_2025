{
 "cells": [
  {
   "cell_type": "markdown",
   "id": "9cf3ecf3-660a-4c7b-b234-f8c4c9a42b94",
   "metadata": {},
   "source": [
    "# Titulo del Proyecto:\n",
    "\n",
    "# \"Desarrollo de un modelo de clasificación de poses bioactivas con aplicación en campañas de screening virtual de fármacos antichagásicos\"\n",
    "\n",
    "\n",
    "# 1. Contexto del Proyecto\n",
    "\n",
    "## 1.1. Motivación\n",
    "Mi nombre es Alfredo Quevedo, soy profesor e investigador en el área Química Medicinal, en la Universidad Nacional de Córdoba, Argentina. Mi área de trabajo reciente refiere a la química computacional, y más específicamente al desarrollo de estrategias bioinformáticas para el diseño *in silico* y cribado masivo de nuevos fármacos. En ese contexto, desde hace algunos años me encuentro desarrollando una plataforma open-source para el desarrollo de campañas de cribado virtual de fármacos, la cual he denominado [TidyScreen](https://github.com/alfredoq/TidyScreen_v2), y que se encuenta disponible\n",
    "como repositorio público en GitHub.\n",
    "\n",
    "En muy resumidas cuentas, una ***campaña de cribado virtual de fármacos*** implica el manejo de cientos de miles moléculas, incluso a veces millones, para identificar candidatos que interaccionen de manera eficiente con un receptor biológico. Una campaña de este tipo implica etapas\n",
    "de:\n",
    "\n",
    "- ***Generación de espacio químico:*** Es la etapa en la cual se preparan los sets de mo-\n",
    "léculas cribar. Como se ha mencionado pueden ser desde miles, cientos de miles e incluso\n",
    "millones. Una de las estrategias masivas mas utilizadas es la síntesis virtual combinatoria.\n",
    "En el siguiente enlace, se puede ver un tutorial ejemplo estrechamente relacionado con el\n",
    "proyecto presentado.\n",
    "\n",
    "- ***Docking molecular:*** Es la etapa en la cual se utilizan una gran diversidad de algoritmos\n",
    "y estategias para predecir/enumerar los modos de interacción de un ligando a un receptor\n",
    "biológico. Típicamente cada ensayo de docking molecular arroja una gran cantidad de\n",
    "poses alternativas de unión, rankeando las mismas mediante funciones de scoring que\n",
    "típicamente describen de manera cuantitativa la afinidad esperada para ese ligando por\n",
    "el receptor correspondiente.\n",
    "\n",
    "- ***Cómputo de patrones de interacción:*** En esta etapa se computan los patrones\n",
    "de interacción de entre el ligando y el receptor. Los estudios más exhaustivos permiten\n",
    "descomponer las interacciones por resíduo de la proteína. Incluso es posible calcular tipos\n",
    "de interacciones independientes para cada resíduos de la proteína. Este cómputo puede\n",
    "ser cuantitativo (i.e. magnitud estimada de la interacción) o cualitativo binario (i.e. 0/1\n",
    "si existe o no existe según criterios geométricos).\n",
    "\n",
    "- ***Identificación de candidatos bioactivos:*** En esta etapa es donde el ML cobra valor\n",
    "como técnica de *screening*, ya que en las etapas finales de cribado virtual típicamente se\n",
    "termina con una gran cantidad de patrones de interacción que deben ser decodificados\n",
    "en búsqueda del que se considera bioactivo. ***El presente proyecto de trabajo está cen-\n",
    "trado en esta etapa, concerniente a desarrollar un modelo de ML que pueda ser puesto\n",
    "en producción para detectar ligandos que se anclan en el sitio receptor con un patrón\n",
    "específico***.\n",
    "\n",
    "- Propuestas para trabajo experimental: Luego de identificados los candidatos, típi-\n",
    "camente el grupo de química computacional propone al equipo experimental la síntesis\n",
    "química de candidatos identificados como prometedores, tras lo cual se evalúan en térmi-\n",
    "nos de actividad biológica.\n",
    "\n",
    "\n",
    "## 1.2. Implementación de ML en TidyScreen\n",
    "\n",
    "El objetivo general de este proyecto, consiste en desarrollar un modelo de ML que pueda ser implementado dentro del flujo de trabajo de TidyScreen a los fines de clasificar poses de unión específicas de ligandos tal como son obtenidos de estudios de docking molecular.\n",
    "\n",
    "\n",
    "# 2. Descripción del dataset utilizado\n",
    "\n",
    "## 2.1 Problema en estudio y solución propuesta\n",
    "\n",
    "El problema biomédico en el que se centra el proyecto refiere a la enfermedad de Chagas, una parasitosis endémica en Sudamérica que constituye un problema sanitario aún no resulto. La Cruzipaína (CZP) es un blanco terapéutico validado para el desarrollo de inhibidores que tengan potencial como fármacos antichagásicos. La estructura tridimensional de CZP puede verse aquí:\n",
    "\n",
    "\n",
    "![Contactos_principales_baselina](./images/Fig1.png)\n",
    "\n",
    "\n",
    "\n",
    "En ese contexto, el desarrollo los ïnihibidores covalentes dirigidos\"(TCIs, targeted covalent inhibitors, por sus siglas en inglés) constituye una de las estrategias mas prometedoras. El problema con los TCIs es que se requiere descubrir estructuras química de máxima compatibilidad con el sitio catalítico de la enzima, a los fines de lograr obtener fármacos que sean seguros y selectivos además de potentes. En la siguiente figura puede verse un TCI unido a CZP:\n",
    "\n",
    "\n",
    "<img src=\"./images/244-Dock.png\" alt=\"Alt text\" width=\"400\"/>\n",
    "\n",
    "\n",
    "La búsqueda de tales moléculas podemos imaginarla como un problema combinatorio de molécular que requiere una gran capacidad de cómputo y análisis de datos asociados a los resultados generados.\n",
    "\n",
    "Para construir el dataset de trabajo, fué necesario selecionar un set de moléculas ejemplo y un blanco molecular que opere como receptor biológico. Dados mis intereses de investigación, trabajé con un dos sets de entrenamiento:\n",
    "- Un reporte bibliográfico de Brak et al conteniendo 20 inhibidores de CZP.<sup>[1](https://pubs.acs.org/doi/abs/10.1021/ja710254m)</sup>\n",
    "\n",
    "\n",
    "- Un set reportado desde mi grupo de investigación conteniendo 130 inhibiidores de CZP.<sup>[2](https://pubs.acs.org/doi/abs/10.1021/acsmedchemlett.4c00460), [3](https://www.mdpi.com/1420-3049/29/17/4224), [4](https://pubs.acs.org/doi/abs/10.1021/acsmedchemlett.4c00631)</sup>\n",
    "\n",
    "Con todos estos inhibidores se construyó un set de moléculas de interés, se realizaron estudios de docking molecular y se computaron patrones de intracción intermolecular empleando la librería [ProLIF](https://prolif.readthedocs.io/en/stable/). A partir de los resultados obtenidos, se visualizaron cada una de las poses de unión resultantes, asignando las etiquetas correspondientes: ***0:*** *modo de unión no bioactivo*, ***1:*** *modo de unión bioactivo*.\n",
    "\n",
    "## 2.2 Dataset de trabajo\n",
    "\n",
    "Conforme se fué avanzando en la construcción del dataset se fueron adicionando/filtrando modos de unión, ya sean positivos como negativos, a los fines de incluir diversidad química en la moléculas consideradas. Dicha diversidad es lo que en definitiva hará al modelo de ML generalizable para el problema en estudio. \n",
    "\n",
    "El [*set de datos*](./dataset/dataset.csv) utilizado para desarrollar el modelo de ML contiene un total de **604 poses de unión etiquetadas**, siendo de ellas **266 poses positivas** y **338 poses negativas**. Como un todo, el dataframe utilizado cuenta con 604 filas (i.e. fingerprints) y 3230 columnas, de las cuales 4 corresponden a datos del ligando/ensayo, 1 a la etiqueta y 3225 columnas corresponden a features de interacción. Los identificadores de las columnas son los siguientes:\n",
    "\n",
    "- ***assay_id***: corresponde a un identificador del ensayo de docking molecular tal como se realizón en TidyScreen. Sirve para tener trazabilidad al experimento en el cual se obtuvo la pose de unión.\n",
    "- ***ligname***: es un valor denominado *InChI Key* que constituye un identificador químico único derivado de la estructura química del ligando estudiado. \n",
    "- ***sub_pose***: es la sub-pose que se obtiene durante el ensayo de docking molecular. Cabe destacar que cada ligando puede originar subposes diferentes y/o alternativas.\n",
    "- ***prolif_parameters_set***: es un identificador interno en TidyScreen utilizado para asignar parámetros y configuraciones específicas para el cómputo de los contactos intermoleculares empleando ProLIF.\n",
    "- ***Features de interacciones***: aquí debe mencionarse que se computa la presencia (1) o ausencia (0) de 15 tipos de interacciones por cada resíduo de la proteína que es target en el ensayo de docking molecular. Entonces tendremos tantos features como ***resíduos de aminoácidos \\* 15*. El nombre de cada feature es: *{RESNAME}{RESNUMBER}\\_{CHAIN}\\_{INTERACTION_TYPE}***. En este caso tenemos 215 resíduos, por lo el dataset incluye un total de 215 \\* 15 = 3225 features de interacción.\n",
    "- ***Binder***: 1 (positive binder) /  0 (negative binder)\n",
    "\n"
   ]
  },
  {
   "cell_type": "code",
   "execution_count": 1,
   "id": "ef55c7fe-1d65-4df0-9e4f-8b1778c5d080",
   "metadata": {},
   "outputs": [
    {
     "name": "stdout",
     "output_type": "stream",
     "text": [
      "Número de registros en el dataset: 604\n",
      "Positive binders: 266\n",
      "Negative binders: 338\n",
      "Número de compuestos únicos en el set: 131\n"
     ]
    }
   ],
   "source": [
    "## Exploración del dataset de trabajo\n",
    "import pandas as pd\n",
    "\n",
    "data = \"./dataset/dataset.csv\"\n",
    "df = pd.read_csv(data)\n",
    "print(f\"Número de registros en el dataset: {len(df)}\")\n",
    "\n",
    "positives = df[df[\"binder\"] == 1].shape[0]\n",
    "negatives = df[df[\"binder\"] == 0].shape[0]\n",
    "\n",
    "print(f\"Positive binders: {positives}\")\n",
    "print(f\"Negative binders: {negatives}\")\n",
    "\n",
    "unique_cpds = df[\"ligname\"].unique() # Compuestos únicos por nombre\n",
    "print(f\"Número de compuestos únicos en el set: {len(unique_cpds)}\")\n",
    "\n"
   ]
  },
  {
   "cell_type": "markdown",
   "id": "07a1d08f-1319-40b5-a139-a2458ae2bf7f",
   "metadata": {},
   "source": [
    "Aquí se puede ver que se cosntruyó el dataset de modo de tener balanceadas las clases, es decir cantidades similares de poses positivas y negativas, incluyendo descripciones para cada compuesto dockeados. Se atendió ese requrimiento para favorecer la generalización del modelo desarrollado."
   ]
  },
  {
   "cell_type": "markdown",
   "id": "5aa5f503-6bc6-4939-b8f3-c5563e5f8790",
   "metadata": {},
   "source": [
    "# 3- Desarrollo del modelo de ML\n",
    "\n",
    "## 3.1- Selección de la calse de modelo de ML a entrenar\n",
    "\n",
    "Teniendo en cuenta la diversidad de modelos de ML disponibles, se inició por considerar la mejor opción para el problema en estudio. En ese sentido se ***seleccionó un modelo de Random Forest** como la opción mas adecuada en base a que:\n",
    "\n",
    "- Es adecuado para tareas de clasificación binaria como la que plantea el problema\n",
    "- Provee la capacidad de informar aspectos de feature importance, es decir es interpretable. Ello es crítico para el desarrollo de fármacos basados en estructuras, porque típicamente queremos saber cuáles son los contactos que caracterizan las poses bioactivas.\n",
    "- Es robusto al overfitting si se calibran bien la cantidad de áboles empleados. Ello es importante, porque no queremos sesgar la identificación de poses a un espacio química acotado.\n",
    "\n",
    "## 3.2- Desarrollo de un modelo baseline\n",
    "El modelo baseline se desarrolló utilizando todos los features del dataset y los hiperpará-\n",
    "metros por default para random forests implementados en scikit-learn:"
   ]
  },
  {
   "cell_type": "code",
   "execution_count": 2,
   "id": "545dbb5f-f02e-40a9-9aa2-0c739c9bda5b",
   "metadata": {},
   "outputs": [
    {
     "name": "stdout",
     "output_type": "stream",
     "text": [
      "Number of duplicated interaction fingerperints: 4\n",
      "Final number of unique interaction fingerprints: 600\n"
     ]
    }
   ],
   "source": [
    "from sklearn.ensemble import RandomForestClassifier\n",
    "from sklearn.model_selection import train_test_split\n",
    "from sklearn.metrics import accuracy_score, precision_score, recall_score, f1_score, confusion_matrix, ConfusionMatrixDisplay, classification_report\n",
    "import matplotlib.pyplot as plt\n",
    "import joblib\n",
    "\n",
    "# Eliminar patrones de interacción que se encuentran duplicados\n",
    "subset_cols = df.columns[3:]\n",
    "duplicated_rows = df[df.duplicated(subset=subset_cols)]\n",
    "print(f\"Number of duplicated interaction fingerperints: {len(duplicated_rows)}\")\n",
    "df_clean = df.drop_duplicates(subset=subset_cols)\n",
    "print(f\"Final number of unique interaction fingerprints: {len(df_clean)}\")\n",
    "\n"
   ]
  },
  {
   "cell_type": "markdown",
   "id": "5275e2b4-af5b-4d95-b01f-689a72426e0c",
   "metadata": {},
   "source": [
    "Como puede verse, sólo se hallaron **4 fingreprints duplicados**, los cuaes fueron eliminados.\n",
    "    \n",
    "En el próximo paso se extrajeron las columnas que no son features o etiquetas. Se reservan\n",
    "esos datos para posteriores análisis."
   ]
  },
  {
   "cell_type": "code",
   "execution_count": 3,
   "id": "5c81d9fe-7cc1-4ce5-b157-63705d9aaaea",
   "metadata": {},
   "outputs": [],
   "source": [
    "columns_to_drop = [\"assay_id\",\"ligname\",\"sub_pose\"]\n",
    "df_strings = df_clean[columns_to_drop]\n",
    "df_features = df_clean.drop(columns_to_drop, axis=1)"
   ]
  },
  {
   "cell_type": "markdown",
   "id": "b86d0eea-39d7-42a4-90fa-1a966291cd48",
   "metadata": {},
   "source": [
    "Se importa la función para filtrar la features según radio de cutoff (en angstroms). El **model baseline** tiene un radio de 999 angstroms tomando como centro el resíduo catalítico de Cys25, con lo cual se consiran todos los features computados por ProLIF:"
   ]
  },
  {
   "cell_type": "code",
   "execution_count": 4,
   "id": "1ff4e74a-ca7e-4792-9a2d-5f9a74939e65",
   "metadata": {},
   "outputs": [
    {
     "name": "stdout",
     "output_type": "stream",
     "text": [
      "El dataset a utilizar tiene 604 filas y 3229 columnas\n"
     ]
    }
   ],
   "source": [
    "from custom_functions import functions as functions\n",
    "\n",
    "# Todos los features considerados a un cutoff de 999 angstroms para el modelo baseline\n",
    "cutoff = 999\n",
    "\n",
    "# Obtener el dataframe con las features filtradas según el cutoff de interacción\n",
    "filtered_df = functions.filter_df_based_on_cutoff(df, cutoff)\n",
    "\n",
    "print(f\"El dataset a utilizar tiene {filtered_df.shape[0]} filas y {filtered_df.shape[1]} columnas\")"
   ]
  },
  {
   "cell_type": "markdown",
   "id": "7622ef02-ed97-4212-9d10-bf0f2584e531",
   "metadata": {},
   "source": [
    "Se separan las features que se utilizarán para entrenar de las columnas de texto que son información anexa:"
   ]
  },
  {
   "cell_type": "code",
   "execution_count": 5,
   "id": "beca43fb-dea4-46e3-928f-043bd9599497",
   "metadata": {},
   "outputs": [
    {
     "name": "stdout",
     "output_type": "stream",
     "text": [
      "El dataset a utilizar tiene 604 filas y 3225 features\n"
     ]
    }
   ],
   "source": [
    "# Se eliminand las columnas de texto con identificadores asociados a TidyScreen\n",
    "columns_to_drop = [\"assay_id\",\"ligname\",\"sub_pose\"]\n",
    "filtered_df_strings = filtered_df[columns_to_drop]\n",
    "filtered_df_features = filtered_df.drop(columns_to_drop, axis=1)\n",
    "\n",
    "# Se separan las features de las etiquetas\n",
    "X = filtered_df_features.iloc[:, :-1]\n",
    "y = filtered_df_features.iloc[:, -1]\n",
    "\n",
    "print(f\"El dataset a utilizar tiene {X.shape[0]} filas y {X.shape[1]} features\")"
   ]
  },
  {
   "cell_type": "markdown",
   "id": "24a6744c-4374-47bc-977e-ec9036227fc0",
   "metadata": {},
   "source": [
    "Para avanzar en el desarollo de modelo se realiza la división del set de datos en **training set** y **test set**"
   ]
  },
  {
   "cell_type": "code",
   "execution_count": 6,
   "id": "cf579329-e565-49ec-8a7c-d8d3e7ba4e6e",
   "metadata": {},
   "outputs": [],
   "source": [
    "X_train, X_test, y_train, y_test, strings_train, strings_test = train_test_split(X, y, filtered_df_strings, test_size=0.25, stratify=y, random_state=42)"
   ]
  },
  {
   "cell_type": "markdown",
   "id": "a975a6e0-c01c-4418-8527-577babb249fe",
   "metadata": {},
   "source": [
    "Se configura el modelo de Random Forest con los hiperparámetros por defecto y se entrena el modelo. (Resulta opcional cargar un modelo ya entrenado cuando se require hacer análisis de performance)"
   ]
  },
  {
   "cell_type": "code",
   "execution_count": 7,
   "id": "8b95590f-6ebb-4b0d-9f53-63f6687c01c1",
   "metadata": {},
   "outputs": [],
   "source": [
    "train = 0\n",
    "\n",
    "if train == 0:\n",
    "    rf = RandomForestClassifier()\n",
    "    rf.fit(X_train, y_train)\n",
    "else:\n",
    "    rf = joblib.load(\"./models_files/random_forest_baseline.pkl\")"
   ]
  },
  {
   "cell_type": "markdown",
   "id": "e7b65736-9e46-4b24-906c-ce88e4bfbe53",
   "metadata": {},
   "source": [
    "Se pueden visualizar los hiperparámetros asignados por defecto:"
   ]
  },
  {
   "cell_type": "code",
   "execution_count": 8,
   "id": "533e1920-4177-4392-a350-2e5b2fc5e3af",
   "metadata": {},
   "outputs": [
    {
     "name": "stdout",
     "output_type": "stream",
     "text": [
      "{'bootstrap': True, 'ccp_alpha': 0.0, 'class_weight': None, 'criterion': 'gini', 'max_depth': None, 'max_features': 'sqrt', 'max_leaf_nodes': None, 'max_samples': None, 'min_impurity_decrease': 0.0, 'min_samples_leaf': 1, 'min_samples_split': 2, 'min_weight_fraction_leaf': 0.0, 'monotonic_cst': None, 'n_estimators': 100, 'n_jobs': None, 'oob_score': False, 'random_state': None, 'verbose': 0, 'warm_start': False}\n"
     ]
    }
   ],
   "source": [
    "hyperparamters = rf.get_params()\n",
    "print(hyperparamters)"
   ]
  },
  {
   "cell_type": "markdown",
   "id": "48e57c18-0fe9-4eec-92cb-9a499caea916",
   "metadata": {},
   "source": [
    "Se evalúa la performance del **modelo baseline** sobre el set test:"
   ]
  },
  {
   "cell_type": "code",
   "execution_count": 9,
   "id": "8700b5ce-2342-4bd5-8560-6b9fb8b3a37d",
   "metadata": {},
   "outputs": [
    {
     "name": "stdout",
     "output_type": "stream",
     "text": [
      "Precision Score baseline: 0.9206\n",
      "Recall Score baseline: 0.8788\n",
      "Accuracy Score baseline: 0.9139\n",
      "F1 Score baseline: 0.8992\n"
     ]
    }
   ],
   "source": [
    "y_pred = rf.predict(X_test)\n",
    "\n",
    "# Evaluate the model\n",
    "print(\"Precision Score baseline:\",round(precision_score(y_test, y_pred),4))\n",
    "print(\"Recall Score baseline:\",round(recall_score(y_test, y_pred),4))\n",
    "print(\"Accuracy Score baseline:\",round(accuracy_score(y_test, y_pred),4))\n",
    "print(\"F1 Score baseline:\",round(f1_score(y_test, y_pred),4))"
   ]
  },
  {
   "cell_type": "markdown",
   "id": "8ed07a27-9f22-417f-93aa-95159929afbb",
   "metadata": {},
   "source": [
    "En el caso que se el modelo resulte de interés en base a performance se lo puede grabar a una fila para posterior utilización:"
   ]
  },
  {
   "cell_type": "code",
   "execution_count": 10,
   "id": "13e3b379-17d3-482e-a197-79b5454d8dbf",
   "metadata": {},
   "outputs": [],
   "source": [
    "save_model = 0\n",
    "\n",
    "if save_model == 1:\n",
    "    filename = input(\"Provide the model filename: \")\n",
    "    joblib.dump(rf, f\"./models_files/{filename}\")"
   ]
  },
  {
   "cell_type": "markdown",
   "id": "aaa5be61-a849-4179-ac2f-230a7fa190f8",
   "metadata": {},
   "source": [
    "Observamos la matriz de confusión para el modelo baseline:"
   ]
  },
  {
   "cell_type": "code",
   "execution_count": 11,
   "id": "b2bae274-96ca-48da-9bcc-aefb27e6da69",
   "metadata": {},
   "outputs": [
    {
     "data": {
      "image/png": "[encoded data removed]",
      "text/plain": [
       "<Figure size 640x480 with 2 Axes>"
      ]
     },
     "metadata": {},
     "output_type": "display_data"
    }
   ],
   "source": [
    "cm = confusion_matrix(y_test, y_pred)\n",
    "disp = ConfusionMatrixDisplay(confusion_matrix=cm)\n",
    "disp.plot(cmap='Blues')\n",
    "plt.show()"
   ]
  },
  {
   "cell_type": "markdown",
   "id": "240596e4-463d-4742-9785-bd450096fe76",
   "metadata": {},
   "source": [
    "Y vamos a extrar los datos de feature importance que son de gran importancia para el caso de estudio porque definen cuáles son las interacciones intermolecular críticas que definen los modos positivos y negativos:"
   ]
  },
  {
   "cell_type": "code",
   "execution_count": 12,
   "id": "587df5af-e76e-44bc-b415-1a06e60277cc",
   "metadata": {},
   "outputs": [
    {
     "data": {
      "image/png": "[encoded data removed]",
      "text/plain": [
       "<Figure size 640x480 with 1 Axes>"
      ]
     },
     "metadata": {},
     "output_type": "display_data"
    }
   ],
   "source": [
    "importances = rf.feature_importances_\n",
    "forest_importance = pd.Series(importances,index=rf.feature_names_in_)\n",
    "\n",
    "feature_numbers = 10\n",
    "forest_importance_sorted = forest_importance.sort_values(ascending=False).head(feature_numbers)\n",
    "fig, ax = plt.subplots()\n",
    "forest_importance_sorted.plot.barh(ax=ax)\n",
    "ax.set_title(\"Feature importances para el modelo baseline\")\n",
    "ax.set_ylabel(\"Contacto\")\n",
    "fig.tight_layout()"
   ]
  },
  {
   "cell_type": "markdown",
   "id": "3a13cea0-514d-42ea-bbab-04448d2269cc",
   "metadata": {},
   "source": [
    "Aquí se puede ver que hay 3 features que dominan el poder predictivo del modelo:\n",
    "- GLY66_X_HBDonor\n",
    "- GLY_X_HBAcceptor\n",
    "- ASP161_X_HBDonor\n",
    "\n",
    "En el contexto del análisis químico, estos tres contacto responden al posicionamiento del anillo 1,2,3 triazol en la zona catalítica de la enzima. Cabe destacar que el objetivo de diseño de estos TCIs es justamente aplicar un reemplazo bioisostérico del enlace peptídico que es típico de los inhibidores clásicos. La siguiente figura muestra la significancia de estos contactos: \n",
    "\n",
    "![Contactos_principales_baselina](./images/contactos_farmacofóricos_baseline.png)\n",
    "\n",
    "\n",
    "También resulta relevante observar que además de los tres features mencionados, el resto de interacciones tienen todos misma importancia, y siendo que ellos dependen de la diversidad química del set entrenamiento, se estima que el modelo tiene una buena capacidad de generalizar, porque no hay contactos dependientes de la diversidad química que predominen. En particular, de esta matriz de confusión, resulta muy relevante analizar los falsos positivos. Estas moléculas sería candidatos a ser explorados, mientras que su modo de unión no es bioactivo. \n",
    "\n",
    "Entonces se identificaron estos falsos positivos y se analizaron las 3 features mas importantes:"
   ]
  },
  {
   "cell_type": "code",
   "execution_count": 13,
   "id": "96904a02-dc4e-4444-bd20-4e530af838e0",
   "metadata": {},
   "outputs": [],
   "source": [
    "# Combinar los resultados del test con los flags del dataset original\n",
    "results = strings_test.copy()\n",
    "results['true_label'] = y_test\n",
    "results['predicted_label'] = y_pred"
   ]
  },
  {
   "cell_type": "code",
   "execution_count": 14,
   "id": "d232d21e-57e4-4cb6-9062-88245be1fe97",
   "metadata": {},
   "outputs": [
    {
     "name": "stderr",
     "output_type": "stream",
     "text": [
      "/home/fredy/MisDocumentos/Varios/Codigo_Facilito_BootCamp_Machine_Learning_2025/notebook/custom_functions/functions.py:35: SettingWithCopyWarning: \n",
      "A value is trying to be set on a copy of a slice from a DataFrame.\n",
      "Try using .loc[row_indexer,col_indexer] = value instead\n",
      "\n",
      "See the caveats in the documentation: https://pandas.pydata.org/pandas-docs/stable/user_guide/indexing.html#returning-a-view-versus-a-copy\n",
      "  subseted_df_subpose[\"True_label\"] = true_label\n",
      "/home/fredy/MisDocumentos/Varios/Codigo_Facilito_BootCamp_Machine_Learning_2025/notebook/custom_functions/functions.py:36: SettingWithCopyWarning: \n",
      "A value is trying to be set on a copy of a slice from a DataFrame.\n",
      "Try using .loc[row_indexer,col_indexer] = value instead\n",
      "\n",
      "See the caveats in the documentation: https://pandas.pydata.org/pandas-docs/stable/user_guide/indexing.html#returning-a-view-versus-a-copy\n",
      "  subseted_df_subpose[\"Predicted_label\"] = predicted_label\n"
     ]
    },
    {
     "data": {
      "text/html": [
       "<div>\n",
       "<style scoped>\n",
       "    .dataframe tbody tr th:only-of-type {\n",
       "        vertical-align: middle;\n",
       "    }\n",
       "\n",
       "    .dataframe tbody tr th {\n",
       "        vertical-align: top;\n",
       "    }\n",
       "\n",
       "    .dataframe thead th {\n",
       "        text-align: right;\n",
       "    }\n",
       "</style>\n",
       "<table border=\"1\" class=\"dataframe\">\n",
       "  <thead>\n",
       "    <tr style=\"text-align: right;\">\n",
       "      <th></th>\n",
       "      <th>assay_id</th>\n",
       "      <th>sub_pose</th>\n",
       "      <th>GLY66_X_HBAcceptor</th>\n",
       "      <th>GLY66_X_HBDonor</th>\n",
       "      <th>ASP161_X_HBDonor</th>\n",
       "      <th>True_label</th>\n",
       "      <th>Predicted_label</th>\n",
       "    </tr>\n",
       "  </thead>\n",
       "  <tbody>\n",
       "    <tr>\n",
       "      <th>319</th>\n",
       "      <td>6</td>\n",
       "      <td>SBKALLGFHFRENE-UHFFFAOYSA-N_4</td>\n",
       "      <td>1</td>\n",
       "      <td>1</td>\n",
       "      <td>1</td>\n",
       "      <td>0</td>\n",
       "      <td>1</td>\n",
       "    </tr>\n",
       "    <tr>\n",
       "      <th>453</th>\n",
       "      <td>8</td>\n",
       "      <td>OUQLORAIXHDLBU-UHFFFAOYSA-N_4</td>\n",
       "      <td>1</td>\n",
       "      <td>1</td>\n",
       "      <td>1</td>\n",
       "      <td>0</td>\n",
       "      <td>1</td>\n",
       "    </tr>\n",
       "    <tr>\n",
       "      <th>480</th>\n",
       "      <td>9</td>\n",
       "      <td>WVTALADMTZGEDZ-UHFFFAOYSA-N_5</td>\n",
       "      <td>1</td>\n",
       "      <td>0</td>\n",
       "      <td>1</td>\n",
       "      <td>0</td>\n",
       "      <td>1</td>\n",
       "    </tr>\n",
       "    <tr>\n",
       "      <th>536</th>\n",
       "      <td>9</td>\n",
       "      <td>ZGPYXBLMSQJAQK-UHFFFAOYSA-N_4</td>\n",
       "      <td>1</td>\n",
       "      <td>0</td>\n",
       "      <td>1</td>\n",
       "      <td>0</td>\n",
       "      <td>1</td>\n",
       "    </tr>\n",
       "    <tr>\n",
       "      <th>576</th>\n",
       "      <td>27</td>\n",
       "      <td>OYAHTXAWQNBFNW-UHFFFAOYSA-O_3</td>\n",
       "      <td>1</td>\n",
       "      <td>0</td>\n",
       "      <td>1</td>\n",
       "      <td>0</td>\n",
       "      <td>1</td>\n",
       "    </tr>\n",
       "  </tbody>\n",
       "</table>\n",
       "</div>"
      ],
      "text/plain": [
       "     assay_id                       sub_pose  GLY66_X_HBAcceptor  \\\n",
       "319         6  SBKALLGFHFRENE-UHFFFAOYSA-N_4                   1   \n",
       "453         8  OUQLORAIXHDLBU-UHFFFAOYSA-N_4                   1   \n",
       "480         9  WVTALADMTZGEDZ-UHFFFAOYSA-N_5                   1   \n",
       "536         9  ZGPYXBLMSQJAQK-UHFFFAOYSA-N_4                   1   \n",
       "576        27  OYAHTXAWQNBFNW-UHFFFAOYSA-O_3                   1   \n",
       "\n",
       "     GLY66_X_HBDonor  ASP161_X_HBDonor  True_label  Predicted_label  \n",
       "319                1                 1           0                1  \n",
       "453                1                 1           0                1  \n",
       "480                0                 1           0                1  \n",
       "536                0                 1           0                1  \n",
       "576                0                 1           0                1  "
      ]
     },
     "execution_count": 14,
     "metadata": {},
     "output_type": "execute_result"
    }
   ],
   "source": [
    "from custom_functions import functions as functions\n",
    "\n",
    "# Mostrar interacciones para las 3 features principales en los casos FALSOS POSITIVOS\n",
    "false_positives = results[(results[\"true_label\"] == 0) & (results[\"predicted_label\"] == 1)]\n",
    "interactions_list = [\"GLY66_X_HBAcceptor\", \"GLY66_X_HBDonor\", \"ASP161_X_HBDonor\"]\n",
    "sub_poses_list = []\n",
    "for index, row in false_positives.iterrows():\n",
    "    sub_pose_name = row[\"sub_pose\"]\n",
    "    sub_poses_list.append(sub_pose_name)\n",
    "\n",
    "subset = functions.show_subpose_interactions(filtered_df, interactions_list, sub_poses_list, true_label=0, predicted_label=1)\n",
    "subset"
   ]
  },
  {
   "cell_type": "markdown",
   "id": "af5580db-6b5c-4800-8f02-00ba34e880db",
   "metadata": {},
   "source": [
    "Llama la atención que la mayoría de los falsos positivos se detectan a pesar de la presencia de las interacciones con GLY66X_HBAcceptor y ASP161_X_HBDonor. Cuando se visualiza en 3D por ejemplo la subpose: ZRTLYSADFDDWWQA-UHFFFAOYSA-N_1 se observa que el triazol se posiciona de manera invertida al de la pose considerada bioactiva, sacrificando solamente un contacto de donor puente hidrógeno con GLY66. \n",
    "\n",
    "![Falso_positivo](./images/falso_positivo.png)\n",
    "\n",
    "Esta pose fectivamente no será bioactiva, por lo que es necesario incrementar este tipo de modos de unión en el dataset a modo de favorecer su detección como negativo. Esto tiene que ver con el enriquecimiento del dataset de trabajo para versiones mas avanzadas del modelo predictivo."
   ]
  },
  {
   "cell_type": "markdown",
   "id": "1b98d9f6-8bdc-4183-8a22-dda96149337d",
   "metadata": {},
   "source": [
    "Hasta este punto se ha desarrollado un modelo baseline de random forest, que si bien exhibe una performance adecuada, puede ser refinado en varios aspectos:\n",
    "\n",
    "- ***Hipérparámetros del modelo:*** el baseline utiliza los defaults de scikit-learn. Sería útil realizar una optimización de los parámetros mediante la estrategia de grid search.\n",
    "- ***Set de entrenamiento y test:*** dado que se ha seleccionado un set fijo para entrenamiento mediante el procedimiento de train_test_split, conviene generalizar el procedimiento aplicando un K-fold cross validation.\n",
    "- ***Extensión de las features:*** el baseline se desarrollo empleando todas las features del dataset, es decir que totalidad de interaccines disponibles para la proteína utilizada. Sin embargo, puede utilizarse un radio de cutoff alrededor del ligando para considerar la interacciones. La reducción en la dimensionalidad del dataset podría beneficiar el poder predictivo del modelo, así como también disminuir los tiempos de cómputo del modelo en producción durante las campañas de screening masivo.\n",
    "\n",
    "Para implementar estas propuestas se recomputó el model de Random Forest con un radio de cutoff 999A desde el resíduos CYS25 (centro de la cavidad de unión) 999Å y utilizando un estategia K-Fold cross validation junto a una búsqueda iterativa de hiperparámetros empleando GridSearchCV tal como se encuentra implementado en scikit-learn:"
   ]
  },
  {
   "cell_type": "code",
   "execution_count": 15,
   "id": "2d30a184-b9bc-4637-827d-2c19442fa0de",
   "metadata": {},
   "outputs": [],
   "source": [
    "from sklearn.model_selection import GridSearchCV, train_test_split, KFold, cross_val_score\n",
    "from sklearn.metrics import accuracy_score, precision_score, recall_score, f1_score, confusion_matrix, ConfusionMatrixDisplay, classification_report"
   ]
  },
  {
   "cell_type": "markdown",
   "id": "816b6701-c4c3-41a1-82ac-9a65730e9ca2",
   "metadata": {},
   "source": [
    "Se definieron distintos valor de radios de cutoff para hacer *subsetting* del dataset:"
   ]
  },
  {
   "cell_type": "code",
   "execution_count": 16,
   "id": "0ad65e72-f357-4e30-a3ba-8494cd4dddbe",
   "metadata": {},
   "outputs": [
    {
     "name": "stdout",
     "output_type": "stream",
     "text": [
      "El dataset a utilizar tiene 604 filas y 495 features\n"
     ]
    }
   ],
   "source": [
    "#cutoff = 999\n",
    "#cutoff = 20\n",
    "#cutoff = 15\n",
    "#cutoff = 12\n",
    "#cutoff = 10\n",
    "cutoff = 8\n",
    "#cutoff = 5\n",
    "\n",
    "# Se genera el dataframe conteniendo los features filtradosz\n",
    "filtered_df = functions.filter_df_based_on_cutoff(df, cutoff)\n",
    "columns_to_drop = [\"assay_id\",\"ligname\",\"sub_pose\"]\n",
    "filtered_df_strings = filtered_df[columns_to_drop]\n",
    "filtered_df_features = filtered_df.drop(columns_to_drop, axis=1)\n",
    "# Se separan las features de las etiquetas\n",
    "X = filtered_df_features.iloc[:, :-1]\n",
    "y = filtered_df_features.iloc[:, -1]\n",
    "\n",
    "print(f\"El dataset a utilizar tiene {X.shape[0]} filas y {X.shape[1]} features\")"
   ]
  },
  {
   "cell_type": "markdown",
   "id": "bdcedf01-35c8-4221-b471-da52fb9250ea",
   "metadata": {},
   "source": [
    "Y luego se dividen los datos empleando test_train_split. El set test será sometido a los procedimientos de K-fold cross validation:"
   ]
  },
  {
   "cell_type": "code",
   "execution_count": 17,
   "id": "d610ec9d-45d6-4d46-b514-b58d4eedab29",
   "metadata": {},
   "outputs": [],
   "source": [
    "X_train, X_test, y_train, y_test, strings_train, strings_test = train_test_split(X, y, filtered_df_strings, test_size=0.25, stratify=y, random_state=42)"
   ]
  },
  {
   "cell_type": "markdown",
   "id": "2197ea3b-577a-4aed-b839-cb7c6d774607",
   "metadata": {},
   "source": [
    "Se instancia un modelo de Random Forest base y se define la grilla de parámetros a explorar:"
   ]
  },
  {
   "cell_type": "code",
   "execution_count": 18,
   "id": "019e8177-8f92-4299-8ee7-4455c9f02acb",
   "metadata": {},
   "outputs": [],
   "source": [
    "rf = RandomForestClassifier()\n",
    "\n",
    "# Para comparación directo con el modelo baseline, se definieron los todos los parámetros en su configuración por defecto\n",
    "# y se exploraron los que se consideraron los principales (n_estimators, max_depth y max_features)\n",
    "cv_params = {'n_estimators': [25, 50, 75, 100, 125, 150], \n",
    "             'criterion': ['gini'], \n",
    "             'max_depth': [None, 10, 20], \n",
    "             'min_samples_split': [2], \n",
    "             'min_samples_leaf': [1], \n",
    "             'min_weight_fraction_leaf': [0.0], \n",
    "             'max_features': ['sqrt', 10, 20, 25, 30], \n",
    "             'max_leaf_nodes': [None], \n",
    "             'min_impurity_decrease': [0.0], \n",
    "             'bootstrap': [True], \n",
    "             'oob_score': [False], \n",
    "             'n_jobs': [None], \n",
    "             'random_state': [None], \n",
    "             'verbose': [0], \n",
    "             'warm_start': [False], \n",
    "             'class_weight': [None], \n",
    "             'max_samples': [None], \n",
    "             'monotonic_cst': [None]\n",
    "}\n",
    "\n",
    "# También se definieron las métricas que se computarán para evaluar la performance de los modelos comparados\n",
    "\n",
    "scoring = ['accuracy', 'precision', 'recall', 'f1']"
   ]
  },
  {
   "cell_type": "markdown",
   "id": "ed4bc1ca-d4fa-4e28-879d-f92d5f7979ca",
   "metadata": {},
   "source": [
    "Con la configuración terminada, se definió el modelo de K-fold cross validation y se entrenó. También se implementó la capacidad de cargar un modelo preentrenado a partir de la fila correspondiente."
   ]
  },
  {
   "cell_type": "code",
   "execution_count": 19,
   "id": "bdc510a4-c52e-4a69-9e8a-dcd0b3d9b7a9",
   "metadata": {},
   "outputs": [
    {
     "name": "stdout",
     "output_type": "stream",
     "text": [
      "CPU times: user 3 μs, sys: 0 ns, total: 3 μs\n",
      "Wall time: 7.15 μs\n"
     ]
    }
   ],
   "source": [
    "%time\n",
    "fit = 0\n",
    "if fit == 1:\n",
    "    cv = StratifiedKFold(n_splits=5, shuffle=True, random_state=42)\n",
    "    rf = RandomForestClassifier(random_state=42)\n",
    "    rf_cvgs = GridSearchCV(rf, cv_params, scoring=scoring, cv=cv, refit='f1', n_jobs=10) # Se utiliza F1 como parámetro mas descriptivo de la calidad de modelo entrenado\n",
    "    rf_cvgs.fit(X_train, y_train)\n",
    "else:\n",
    "    model_filename = f\"./models_files/random_forest_crossval_cutoff_{cutoff}.pkl\"\n",
    "    rf_cvgs = joblib.load(model_filename)"
   ]
  },
  {
   "cell_type": "markdown",
   "id": "b71a4074-5917-4850-93e5-1e5591e3b060",
   "metadata": {},
   "source": [
    "Se evaluaron los parámetros de calidad de los modelos de cross-validation:"
   ]
  },
  {
   "cell_type": "code",
   "execution_count": 20,
   "id": "15830fc4-9c52-4a76-942e-f9ca238c5f9e",
   "metadata": {},
   "outputs": [
    {
     "name": "stdout",
     "output_type": "stream",
     "text": [
      "Tuned Hyperparameters: {'bootstrap': True, 'class_weight': None, 'criterion': 'gini', 'max_depth': 10, 'max_features': 20, 'max_leaf_nodes': None, 'max_samples': None, 'min_impurity_decrease': 0.0, 'min_samples_leaf': 1, 'min_samples_split': 2, 'min_weight_fraction_leaf': 0.0, 'monotonic_cst': None, 'n_estimators': 50, 'n_jobs': None, 'oob_score': False, 'random_state': None, 'verbose': 0, 'warm_start': False}\n",
      "Best score: 0.9036\n"
     ]
    }
   ],
   "source": [
    "print(\"Tuned Hyperparameters:\",rf_cvgs.best_params_)\n",
    "print(\"Best score:\",round(rf_cvgs.best_score_,4))\n",
    "best_rf = rf_cvgs.best_estimator_"
   ]
  },
  {
   "cell_type": "code",
   "execution_count": 21,
   "id": "6cb8f48e-f5cb-444b-ba1d-312aea60695a",
   "metadata": {},
   "outputs": [],
   "source": [
    "## Eventualmente se guarda el modelo entrenado a una fila para posterior análisis\n",
    "save = 0\n",
    "if save == 1:\n",
    "    model_filename = f\"./models_files/random_forest_crossval_cutoff_{cutoff}.pkl\"\n",
    "    joblib.dump(rf_cvgs, model_filename)\n",
    "    print(f\"Model saved to: {model_filename}\")"
   ]
  },
  {
   "cell_type": "markdown",
   "id": "0cf6bb4b-f08c-46ea-b86a-0b9cea9a0e08",
   "metadata": {},
   "source": [
    "Se utiliza el modelo entrenado para clasificar el set test y posteriormente se computan las métricas de performance:"
   ]
  },
  {
   "cell_type": "code",
   "execution_count": 22,
   "id": "91a9be3b-2dde-4687-8ec2-c85e9869d88d",
   "metadata": {},
   "outputs": [
    {
     "name": "stdout",
     "output_type": "stream",
     "text": [
      "Precision Score: 0.9839\n",
      "Recall Score: 0.9242\n",
      "Accuracy Score: 0.9603\n",
      "F1 Score: 0.9531\n"
     ]
    }
   ],
   "source": [
    "# Predicción sobre el test set\n",
    "y_pred = best_rf.predict(X_test)\n",
    "\n",
    "# Evaluación de la performance del modelo\n",
    "print(\"Precision Score:\",round(precision_score(y_test, y_pred),4))\n",
    "print(\"Recall Score:\",round(recall_score(y_test, y_pred),4))\n",
    "print(\"Accuracy Score:\",round(accuracy_score(y_test, y_pred),4))\n",
    "print(\"F1 Score:\",round(f1_score(y_test, y_pred),4))"
   ]
  },
  {
   "cell_type": "markdown",
   "id": "e6a4a0fa-9dac-40e1-a7f3-c23e4ecf84ae",
   "metadata": {},
   "source": [
    "Se observa la matriz de cofusión para el modelo correspondiente:"
   ]
  },
  {
   "cell_type": "code",
   "execution_count": 23,
   "id": "e8b28ab3-482f-4846-9866-a1fd185959f3",
   "metadata": {},
   "outputs": [
    {
     "data": {
      "image/png": "[encoded data removed]",
      "text/plain": [
       "<Figure size 640x480 with 2 Axes>"
      ]
     },
     "metadata": {},
     "output_type": "display_data"
    }
   ],
   "source": [
    "# Depiction de la matriz de confusión\n",
    "cm = confusion_matrix(y_test, y_pred)\n",
    "disp = ConfusionMatrixDisplay(confusion_matrix=cm)\n",
    "disp.plot(cmap='Blues')\n",
    "plt.title(f\"Matriz de confusion a {cutoff} angstroms\")\n",
    "plt.show()"
   ]
  },
  {
   "cell_type": "markdown",
   "id": "b7d4d949-1d20-40e7-bbe8-07d8ce1d6969",
   "metadata": {},
   "source": [
    "Y se vuelven a mirar las feature importances para el modelo correspondiente:"
   ]
  },
  {
   "cell_type": "code",
   "execution_count": 24,
   "id": "ed2772e3-521f-448f-b3c0-ec3929296e58",
   "metadata": {},
   "outputs": [
    {
     "data": {
      "image/png": "[encoded data removed]",
      "text/plain": [
       "<Figure size 640x480 with 1 Axes>"
      ]
     },
     "metadata": {},
     "output_type": "display_data"
    }
   ],
   "source": [
    "# Definición de los feature importances\n",
    "importance = rf_cvgs.best_estimator_.feature_importances_\n",
    "forest_importance = pd.Series(importance,index=rf_cvgs.feature_names_in_)\n",
    "\n",
    "feature_numbers = 10\n",
    "forest_importance_sorted = forest_importance.sort_values(ascending=False).head(feature_numbers)\n",
    "fig, ax = plt.subplots()\n",
    "forest_importance_sorted.plot.barh(ax=ax)\n",
    "ax.set_title(\"Feature importances\")\n",
    "ax.set_ylabel(\"Contacto\")\n",
    "fig.tight_layout()"
   ]
  },
  {
   "cell_type": "markdown",
   "id": "cc4fd7dc-1cf3-4051-b9e5-9652db584b70",
   "metadata": {},
   "source": [
    "Cabe destacar que todo este trabajo se realizó de manera iterativa empleando valores de cutoff decrecientes: 999, 20, 15, 12, 10, 8, 5\n",
    "\n",
    "| Cutoff | Precision | Recall | Accuracy | F1 training | f1 test\n",
    "|----------|----------|----------| ----------| ----------| ----------|\n",
    "| 999 Baseline RF  | 0.9219  | 0.8939  | 0.9205  | -  | 0.9077  |\n",
    "| 999 A KFCV_RF  | 0.9677  | 0.9091  | 0.947  | 0.9054  | 0.9375  |\n",
    "| 20 A KFCV_RF  | 0.9365  | 0.8939  | 0.9272  | 0.9104  | 0.9147  |\n",
    "| 15 A KFCV_RF  | 0.9531  | 0.9242  | 0.947  |  0.9071  | 0.9385  |\n",
    "| 12 A KFCV_RF  | 0.9375  | 0.9091  | 0.9338  | 0.9079  | 0.9231  |\n",
    "| 10 A KFCV_RF  | 0.9552  | 0.9697  | 0.9669  | 0.9159  | 0.9624  |\n",
    "| 8 A KFCV_RF  | 0.9839  | 0.9242  | 0.9603  | 0.9036  | 0.9531  |\n",
    "| 5 A KFCV_RF  | 0.8444  | 0.5758  | 0.7682  | 0.6071  | 0.6847  |\n",
    "\n",
    "\n",
    "De análisis de los valores hallados, pueden concluirse los siguientes aspectos:\n",
    "\n",
    "- Que el procedimiento de K-fold cross validation mojora la performance del modelo respecto de la aproximación estándar de desarollo del modelo de Random Forest. Claramente existe una mejora en la generalización del modelo product de la secuencia y bagging de procedimientos de train_test_split. Aquí cabe destacar que se informan los resultados empleando una K=5. También se hicieron pruebas con K=10 (los resultados no se incluyen por razones de brevedad en el notebook), pero los resultados no mostraron mejora, aunque sí se incrementó el notablemente el tiempo de entrenamiento.\n",
    "\n",
    "- Que existe un notable impacto del radio de cutoff en la performance del modelo. Se identifica que reducir el radio de consideración de las feature mejora la performance del modelo, lo cual se interpreta como que el dataset se hace menos difuso (sparse). Asimismo mejora la generalización del modelo. También disminuye el tiempo de entrenamiento al bajar el criterio de cutoff, dado que el número de features sobre los cuales entrenar también disminuye. Resulta importante mencionar que dichos beneficios en el desarrollo del modelo tienen un corte a partir de los 8 angstroms de radio, a partir del cual se observa que el modelo se deteriora significativamente. Ello seguramente se debe muy probablemente a que las features mas imporantes que determinan el poder discriminativo del modelo ya quedan afuera por debajo de 8 angstroms.\n",
    "\n",
    "Como conclusión es necesario decidir si conviene cortar los features a 8 o 10 angstroms. Para decidirlo, resulta útil inspeccionar las matrices de confusión para ambos casos, recordando que la prioridad de la campañana de screening virtual de TCIs es tener la menor cantidad de falsos positivos posibles, ya que ello implica menores errores en las propuestas de trabajo sintético experimental\n",
    "\n",
    "***Matriz de confusión a 10 angstroms***\n",
    "\n",
    "![Contactos_principales_baselina](./images/matriz_confusion_10A.png)\n",
    "\n",
    "***Matriz de confusión a 8 angstroms***\n",
    "\n",
    "![Contactos_principales_baselina](./images/matriz_confusion_8A.png)\n",
    "\n",
    "Se puede observar que a 8 angstroms se tienen menos falsos positivos, siendo además un modelo con menos features. Se selecciona este como modelo final para poner en producción. Resulta de interés observa la naturaleza del compuesto identificado como falso positivo: "
   ]
  },
  {
   "cell_type": "code",
   "execution_count": 27,
   "id": "7a15cf8d-542b-46ac-b842-e35e38b5a671",
   "metadata": {},
   "outputs": [
    {
     "name": "stderr",
     "output_type": "stream",
     "text": [
      "/home/fredy/MisDocumentos/Varios/Codigo_Facilito_BootCamp_Machine_Learning_2025/notebook/custom_functions/functions.py:35: SettingWithCopyWarning: \n",
      "A value is trying to be set on a copy of a slice from a DataFrame.\n",
      "Try using .loc[row_indexer,col_indexer] = value instead\n",
      "\n",
      "See the caveats in the documentation: https://pandas.pydata.org/pandas-docs/stable/user_guide/indexing.html#returning-a-view-versus-a-copy\n",
      "  subseted_df_subpose[\"True_label\"] = true_label\n",
      "/home/fredy/MisDocumentos/Varios/Codigo_Facilito_BootCamp_Machine_Learning_2025/notebook/custom_functions/functions.py:36: SettingWithCopyWarning: \n",
      "A value is trying to be set on a copy of a slice from a DataFrame.\n",
      "Try using .loc[row_indexer,col_indexer] = value instead\n",
      "\n",
      "See the caveats in the documentation: https://pandas.pydata.org/pandas-docs/stable/user_guide/indexing.html#returning-a-view-versus-a-copy\n",
      "  subseted_df_subpose[\"Predicted_label\"] = predicted_label\n"
     ]
    },
    {
     "data": {
      "text/html": [
       "<div>\n",
       "<style scoped>\n",
       "    .dataframe tbody tr th:only-of-type {\n",
       "        vertical-align: middle;\n",
       "    }\n",
       "\n",
       "    .dataframe tbody tr th {\n",
       "        vertical-align: top;\n",
       "    }\n",
       "\n",
       "    .dataframe thead th {\n",
       "        text-align: right;\n",
       "    }\n",
       "</style>\n",
       "<table border=\"1\" class=\"dataframe\">\n",
       "  <thead>\n",
       "    <tr style=\"text-align: right;\">\n",
       "      <th></th>\n",
       "      <th>assay_id</th>\n",
       "      <th>sub_pose</th>\n",
       "      <th>GLY66_X_HBAcceptor</th>\n",
       "      <th>GLY66_X_HBDonor</th>\n",
       "      <th>ASP161_X_HBDonor</th>\n",
       "      <th>True_label</th>\n",
       "      <th>Predicted_label</th>\n",
       "    </tr>\n",
       "  </thead>\n",
       "  <tbody>\n",
       "    <tr>\n",
       "      <th>319</th>\n",
       "      <td>6</td>\n",
       "      <td>SBKALLGFHFRENE-UHFFFAOYSA-N_4</td>\n",
       "      <td>1</td>\n",
       "      <td>1</td>\n",
       "      <td>1</td>\n",
       "      <td>0</td>\n",
       "      <td>1</td>\n",
       "    </tr>\n",
       "  </tbody>\n",
       "</table>\n",
       "</div>"
      ],
      "text/plain": [
       "     assay_id                       sub_pose  GLY66_X_HBAcceptor  \\\n",
       "319         6  SBKALLGFHFRENE-UHFFFAOYSA-N_4                   1   \n",
       "\n",
       "     GLY66_X_HBDonor  ASP161_X_HBDonor  True_label  Predicted_label  \n",
       "319                1                 1           0                1  "
      ]
     },
     "execution_count": 27,
     "metadata": {},
     "output_type": "execute_result"
    }
   ],
   "source": [
    "# Mostrar interacciones para las 3 features principales en los casos FALSOS POSITIVOS\n",
    "results = strings_test.copy()\n",
    "results['true_label'] = y_test\n",
    "results['predicted_label'] = y_pred\n",
    "false_positives = results[(results[\"true_label\"] == 0) & (results[\"predicted_label\"] == 1)]\n",
    "interactions_list = [\"GLY66_X_HBAcceptor\", \"GLY66_X_HBDonor\", \"ASP161_X_HBDonor\"]\n",
    "sub_poses_list = []\n",
    "for index, row in false_positives.iterrows():\n",
    "    sub_pose_name = row[\"sub_pose\"]\n",
    "    sub_poses_list.append(sub_pose_name)\n",
    "\n",
    "subset = functions.show_subpose_interactions(filtered_df, interactions_list, sub_poses_list, true_label=0, predicted_label=1)\n",
    "subset"
   ]
  },
  {
   "cell_type": "markdown",
   "id": "602c840a-6f99-4048-93f7-faea3a42a5e2",
   "metadata": {},
   "source": [
    "Puede verse que la única pose de unión detectada como falso positivo efectivamente estable contactos del tipo GLY66_X_HBAcceptor, GLY66_X_HBDonor y ASP161_X_HBDonor, los cuaĺes son farmacofóricos. Una inspección del su pose tridimensional muestra:\n",
    "\n",
    "![Contactos_principales_baselina](./images/pose_falso_positivo.png)\n",
    "\n",
    "Pueden verse que los contacto efectivamente están presentes. Poses de este tipo definitivamente requiren de inspección humana para ser detectadas, lo cual se interpreta con un trabajo acotado y posterior a la clasificación con el modelo de machine learning desarrollado."
   ]
  },
  {
   "cell_type": "markdown",
   "id": "7ea207d4-b739-449c-9682-71cf729b2b33",
   "metadata": {},
   "source": [
    "# Conclusiones y puesta en producción del modelo\n",
    "\n",
    "A partir de lo presentado, puede concluirse que fué posible desarrollar un modelo de Random Forest que clasifica de manera robusta y general las poses de unión a CZP de derivados del núcleo 1,2,3 triazol 1,4 disustituídos, significando como tal componente central en la campaña de screening de candidatos a síntesis experimental.\n",
    "\n",
    "Hasta este punto se cuenta con el modelo guardado en un archivo .pkl, y para su puesta en producción es necesario avanzar en etapas de insertarlo en el workflow de funcionamiento de TidyScreen, tal como puede verse en la siguiente figura:\n",
    "\n",
    "\n",
    "![Contactos_principales_baselina](./images/tidy_workflow.png)\n",
    "\n",
    "\n",
    "Dicha puesta en producción excede a los objetivos del presente proyecto, pero al momento de escritura de este notebook se encuentra en proceso de avance. Como parte del trabajo sincronizado de la plataforma, se espera que el módulo ***ML Models*** que incluye en una base de datos SQL al archivo .pkl conteniendo el modelo desarrollado, sea capaz de clasificar poses de unión de manera encadenada al funcionamiento del módulo ***MolDock***. Cabe mencionar que el objetivo final de dicho funcionamiento sincronizado es el screening de librerías de varios cientos de miles de análogos de derivados del núcleo 1,2,3 triazol 1,4 disustituídos, las cuáles se han obtenido mediante procedimientos de síntesis virtual combinatoria."
   ]
  },
  {
   "cell_type": "code",
   "execution_count": null,
   "id": "016aff2a-31f1-47f6-acbc-992935b60e56",
   "metadata": {},
   "outputs": [],
   "source": []
  }
 ],
 "metadata": {
  "kernelspec": {
   "display_name": "Python 3 (ipykernel)",
   "language": "python",
   "name": "python3"
  },
  "language_info": {
   "codemirror_mode": {
    "name": "ipython",
    "version": 3
   },
   "file_extension": ".py",
   "mimetype": "text/x-python",
   "name": "python",
   "nbconvert_exporter": "python",
   "pygments_lexer": "ipython3",
   "version": "3.10.17"
  }
 },
 "nbformat": 4,
 "nbformat_minor": 5
}
